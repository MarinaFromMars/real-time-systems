{
 "cells": [
  {
   "cell_type": "code",
   "execution_count": 33,
   "id": "responsible-submission",
   "metadata": {},
   "outputs": [],
   "source": [
    "import random\n",
    "import numpy as np\n",
    "import matplotlib.pyplot as plt"
   ]
  },
  {
   "cell_type": "code",
   "execution_count": 35,
   "id": "disciplinary-triangle",
   "metadata": {},
   "outputs": [],
   "source": [
    "n = 12\n",
    "w_max = 2700\n",
    "N = 640"
   ]
  },
  {
   "cell_type": "code",
   "execution_count": 34,
   "id": "recognized-picking",
   "metadata": {},
   "outputs": [],
   "source": [
    "def generate(n, w_max, N):\n",
    "    y = [0 for _ in range(N)]\n",
    "    x = [i * 0.0001 for i in range(N)]\n",
    "    w = w_max / n\n",
    "    for i in range(n):\n",
    "\n",
    "        w0 = w * (1 + i)\n",
    "        A = random.random()\n",
    "        fi = random.random()\n",
    "        for t in range(N):\n",
    "            y[t] += A * np.sin(w0 * x[t] + fi)\n",
    "    return (x, y)\n"
   ]
  },
  {
   "cell_type": "code",
   "execution_count": 45,
   "id": "tough-appliance",
   "metadata": {},
   "outputs": [],
   "source": [
    "x = np.arange(N)\n",
    "y =np.array(generate(n,w_max,N)[1])\n",
    "result = np.zero(N,complex)"
   ]
  },
  {
   "cell_type": "code",
   "execution_count": 46,
   "id": "ignored-attitude",
   "metadata": {},
   "outputs": [],
   "source": [
    "for k in range(len(x)):\n",
    "    result[k] = np.sum(y * np.exp(-2j*np.pi*k*x/N))\n",
    "  "
   ]
  },
  {
   "cell_type": "code",
   "execution_count": 48,
   "id": "induced-christianity",
   "metadata": {},
   "outputs": [
    {
     "data": {
      "image/png": "[encoded data removed]",
      "text/plain": [
       "<Figure size 432x288 with 1 Axes>"
      ]
     },
     "metadata": {
      "needs_background": "light"
     },
     "output_type": "display_data"
    }
   ],
   "source": [
    "\n",
    "plt.plot(np.imag(c), label = \"imag\")\n",
    "plt.plot(np.real(c), label = \"real\")\n",
    "plt.legend()\n",
    "plt.plot(abs(c))\n",
    "plt.show()"
   ]
  },
  {
   "cell_type": "code",
   "execution_count": null,
   "id": "timely-clerk",
   "metadata": {},
   "outputs": [],
   "source": []
  }
 ],
 "metadata": {
  "kernelspec": {
   "display_name": "Python 3",
   "language": "python",
   "name": "python3"
  },
  "language_info": {
   "codemirror_mode": {
    "name": "ipython",
    "version": 3
   },
   "file_extension": ".py",
   "mimetype": "text/x-python",
   "name": "python",
   "nbconvert_exporter": "python",
   "pygments_lexer": "ipython3",
   "version": "3.7.7"
  }
 },
 "nbformat": 4,
 "nbformat_minor": 5
}
